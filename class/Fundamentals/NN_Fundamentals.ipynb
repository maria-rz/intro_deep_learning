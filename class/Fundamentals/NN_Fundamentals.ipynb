{
  "cells": [
    {
      "cell_type": "markdown",
      "metadata": {
        "id": "5YwtuFGzR9md"
      },
      "source": [
        "It is highly recommended to use a powerful **GPU**, you can use it for free uploading this notebook to [Google Colab](https://colab.research.google.com/notebooks/intro.ipynb).\n",
        "<table align=\"center\">\n",
        " <td align=\"center\"><a target=\"_blank\" href=\"https://colab.research.google.com/github/ezponda/intro_deep_learning/blob/main/class/Fundamentals/NN_Fundamentals.ipynb\">\n",
        "        <img src=\"https://colab.research.google.com/img/colab_favicon_256px.png\"  width=\"50\" height=\"50\" style=\"padding-bottom:5px;\" />Run in Google Colab</a></td>\n",
        "  <td align=\"center\"><a target=\"_blank\" href=\"https://github.com/ezponda/intro_deep_learning/blob/main/class/Fundamentals/NN_Fundamentals.ipynb\">\n",
        "        <img src=\"https://github.githubassets.com/images/modules/logos_page/GitHub-Mark.png\"  width=\"50\" height=\"50\" style=\"padding-bottom:5px;\" />View Source on GitHub</a></td>\n",
        "</table>"
      ]
    },
    {
      "cell_type": "code",
      "execution_count": 1,
      "metadata": {
        "id": "AmpWxLwrR9mg"
      },
      "outputs": [],
      "source": [
        "import tensorflow as tf\n",
        "from tensorflow import keras\n",
        "from tensorflow.keras import layers\n",
        "\n",
        "import numpy as np\n",
        "import sklearn\n",
        "import sklearn.datasets\n",
        "import sklearn.linear_model\n",
        "import matplotlib.pyplot as plt\n",
        "%matplotlib inline\n",
        "\n",
        "tf.random.set_seed(0)"
      ]
    },
    {
      "cell_type": "code",
      "execution_count": 15,
      "metadata": {
        "id": "uCWc0osPR9mh"
      },
      "outputs": [],
      "source": [
        "\n",
        "def plot_decision_boundary(model, X, y):\n",
        "    # Set min and max values and give it some padding\n",
        "    x_min, x_max = X[:, 0].min() - 1, X[:, 0].max() + 1\n",
        "    y_min, y_max = X[:,1].min() - 1, X[:,1].max() + 1\n",
        "    h = 0.05\n",
        "    # Generate a grid of points with distance h between them\n",
        "    xx, yy = np.meshgrid(np.arange(x_min, x_max, h), np.arange(y_min, y_max, h))\n",
        "    # Predict the function value for the whole grid\n",
        "    Z = model(np.c_[xx.ravel(), yy.ravel()])\n",
        "    Z = Z.reshape(xx.shape)\n",
        "    # Plot the contour and training examples\n",
        "    plt.contourf(xx, yy, Z, cmap=plt.cm.Spectral)\n",
        "    plt.ylabel('x2')\n",
        "    plt.xlabel('x1')\n",
        "    plt.scatter(X[:,0], X[:,1], c=y.ravel(), cmap=plt.cm.Spectral)\n",
        "\n",
        "def load_planar_dataset(m, sigma=0.2):\n",
        "    N = int(m/2) # number of points per class\n",
        "    D = 2 # dimensionality\n",
        "    X = np.zeros((m,D)) # data matrix where each row is a single example\n",
        "    Y = np.zeros((m,1), dtype='uint8') # labels vector (0 for red, 1 for blue)\n",
        "    a = 4 # maximum ray of the flower\n",
        "\n",
        "    for j in range(2):\n",
        "        ix = range(N*j,N*(j+1))\n",
        "        t = np.linspace(j*3.12,(j+1)*3.12,N) + np.random.randn(N)*sigma # theta\n",
        "        r = a*np.sin(4*t) + np.random.randn(N)*sigma # radius\n",
        "        X[ix] = np.c_[r*np.sin(t), r*np.cos(t)]\n",
        "        Y[ix] = j\n",
        "\n",
        "    ## premuting ouput\n",
        "    p = np.random.permutation(m)\n",
        "    X = X[p,:]\n",
        "    Y = Y[p,:]\n",
        "\n",
        "    return X, Y.ravel()\n",
        "\n",
        "def draw_neural_net(left, right, bottom, top, layer_sizes):\n",
        "    '''\n",
        "    From https://gist.github.com/craffel/2d727968c3aaebd10359#file-draw_neural_net-py\n",
        "    Draw a neural network cartoon using matplotilb.\n",
        "\n",
        "    :usage:\n",
        "        >>> fig = plt.figure(figsize=(12, 12))\n",
        "        >>> draw_neural_net(fig.gca(), .1, .9, .1, .9, [4, 7, 2])\n",
        "\n",
        "    :parameters:\n",
        "        - ax : matplotlib.axes.AxesSubplot\n",
        "            The axes on which to plot the cartoon (get e.g. by plt.gca())\n",
        "        - left : float\n",
        "            The center of the leftmost node(s) will be placed here\n",
        "        - right : float\n",
        "            The center of the rightmost node(s) will be placed here\n",
        "        - bottom : float\n",
        "            The center of the bottommost node(s) will be placed here\n",
        "        - top : float\n",
        "            The center of the topmost node(s) will be placed here\n",
        "        - layer_sizes : list of int\n",
        "            List of layer sizes, including input and output dimensionality\n",
        "    '''\n",
        "    fig = plt.figure(figsize=(3, 3))\n",
        "    ax = fig.gca()\n",
        "    ax.axis('off')\n",
        "\n",
        "    n_layers = len(layer_sizes)\n",
        "    v_spacing = (top - bottom)/float(max(layer_sizes))\n",
        "    h_spacing = (right - left)/float(len(layer_sizes) - 1)\n",
        "    # Nodes\n",
        "    for n, layer_size in enumerate(layer_sizes):\n",
        "        layer_top = v_spacing*(layer_size - 1)/2. + (top + bottom)/2.\n",
        "        for m in range(layer_size):\n",
        "            circle = plt.Circle((n*h_spacing + left, layer_top - m*v_spacing), v_spacing/4.,\n",
        "                                color='w', ec='k', zorder=4)\n",
        "            ax.add_artist(circle)\n",
        "    # Edges\n",
        "    for n, (layer_size_a, layer_size_b) in enumerate(zip(layer_sizes[:-1], layer_sizes[1:])):\n",
        "        layer_top_a = v_spacing*(layer_size_a - 1)/2. + (top + bottom)/2.\n",
        "        layer_top_b = v_spacing*(layer_size_b - 1)/2. + (top + bottom)/2.\n",
        "        for m in range(layer_size_a):\n",
        "            for o in range(layer_size_b):\n",
        "                line = plt.Line2D([n*h_spacing + left, (n + 1)*h_spacing + left],\n",
        "                                  [layer_top_a - m*v_spacing, layer_top_b - o*v_spacing], c='k')\n",
        "                ax.add_artist(line)"
      ]
    },
    {
      "cell_type": "markdown",
      "metadata": {
        "id": "6_XYH-J0R9mi"
      },
      "source": [
        "## Dataset\n",
        "\n",
        "We have a binary classification dataset. The target `y` has two possible values, {0,1} and the input vector `x` has two dimensions."
      ]
    },
    {
      "cell_type": "code",
      "execution_count": null,
      "metadata": {
        "id": "JOB94EvCR9mi"
      },
      "outputs": [],
      "source": [
        "N = 5000\n",
        "X, y = load_planar_dataset(N, 0.2)"
      ]
    },
    {
      "cell_type": "markdown",
      "metadata": {
        "id": "Oc6WoqOoR9mi"
      },
      "source": [
        "Visualize the dataset using matplotlib. The data looks like a \"flower\" with some red (label y=0) and some blue (y=1) points. Your goal is to build a model to fit this data."
      ]
    },
    {
      "cell_type": "code",
      "execution_count": null,
      "metadata": {
        "id": "qmCZbtSNR9mi"
      },
      "outputs": [],
      "source": [
        "# Visualize the data:\n",
        "plt.scatter(X[:,0], X[:,1], c=y.ravel(), s=40, cmap=plt.cm.Spectral);"
      ]
    },
    {
      "cell_type": "code",
      "execution_count": null,
      "metadata": {
        "id": "_cgbUhhFR9mj"
      },
      "outputs": [],
      "source": [
        "# train test split\n",
        "from sklearn.model_selection import train_test_split\n",
        "\n",
        "(X_train, X_test, y_train, y_test) = train_test_split(\n",
        "    X,\n",
        "    y,\n",
        "    test_size=0.2,\n",
        ")"
      ]
    },
    {
      "cell_type": "code",
      "execution_count": null,
      "metadata": {
        "id": "ZIo5hzTfR9mj"
      },
      "outputs": [],
      "source": [
        "print('X shape:{0}, y shape:{1}'.format(X.shape, y.shape))\n",
        "print('X_train shape:{0}, y_train shape:{1}'.format(X_train.shape,\n",
        "                                                    y_train.shape))\n",
        "print('X_test shape:{0}, y_test shape:{1}'.format(X_test.shape, y_test.shape))"
      ]
    },
    {
      "cell_type": "code",
      "execution_count": null,
      "metadata": {
        "id": "oVD9i_obR9mj"
      },
      "outputs": [],
      "source": [
        "## X first example\n",
        "X[0,:]"
      ]
    },
    {
      "cell_type": "code",
      "execution_count": null,
      "metadata": {
        "id": "KAxBayk3R9mj"
      },
      "outputs": [],
      "source": [
        "## Y firsts examples\n",
        "y[:8]"
      ]
    },
    {
      "cell_type": "markdown",
      "metadata": {
        "id": "nRj_9pxtR9mj"
      },
      "source": [
        "## First NN in Keras\n",
        "\n",
        "### Logistic regression\n",
        "\n",
        "Fully connected layers are defined using the [Dense](https://www.tensorflow.org/api_docs/python/tf/keras/layers/Dense) class. We can specify the number of neurons as the first argument, and specify the activation function using the activation argument.\n",
        "\n",
        "```python\n",
        "tf.keras.layers.Dense(\n",
        "    units, activation=None\n",
        ")\n",
        "\n",
        "```\n",
        "\n",
        "- **units**: Number of neurons in the layer.\n",
        "- **activation**: Activation function to use, default function is `linear`, you can also use `sigmoid` for sigmoid activation or [other alternatives](https://www.tensorflow.org/api_docs/python/tf/keras/activations)\n",
        "\n",
        "For defining the input layer you can use `keras.Input(shape=(input_dimension,))` or define your input dimension in the first hidden layer.\n",
        "\n",
        "```python\n",
        "layers.Dense(4, activation=\"sigmoid\", input_shape=(input_dimension,))\n",
        "\n",
        "```\n",
        "\n",
        "Build a network without hidden layer"
      ]
    },
    {
      "cell_type": "code",
      "execution_count": null,
      "metadata": {
        "id": "qpeYKI2PR9mk"
      },
      "outputs": [],
      "source": [
        "draw_neural_net(.1, .9, .1, .9, [2, 1])"
      ]
    },
    {
      "cell_type": "code",
      "execution_count": null,
      "metadata": {
        "id": "Kf-8ScdqR9mk"
      },
      "outputs": [],
      "source": [
        "model = keras.Sequential()\n",
        "# The dimension of the input is 2 (planar data)\n",
        "# we have only one output layer with 1 neuron\n",
        "model.add(keras.layers.Dense(1, input_shape=(2, ), activation='sigmoid'))"
      ]
    },
    {
      "cell_type": "code",
      "execution_count": null,
      "metadata": {
        "id": "chuyEa7ZR9mk"
      },
      "outputs": [],
      "source": [
        "model.summary()"
      ]
    },
    {
      "cell_type": "code",
      "execution_count": null,
      "metadata": {
        "id": "wNcoi8H6R9mk"
      },
      "outputs": [],
      "source": [
        "from tensorflow.keras.utils import plot_model\n",
        "plot_model(model, show_shapes=True)"
      ]
    },
    {
      "cell_type": "markdown",
      "metadata": {
        "id": "sMMOfyHSR9mk"
      },
      "source": [
        "#### Compile\n",
        "Now we need to specify the loss function, the metrics and the optimizer. It is done using compile function in Keras."
      ]
    },
    {
      "cell_type": "code",
      "execution_count": null,
      "metadata": {
        "id": "lvMlGE2dR9mk"
      },
      "outputs": [],
      "source": [
        "model.compile(\n",
        "    optimizer='adam',\n",
        "    loss='binary_crossentropy',\n",
        "    metrics=['accuracy']\n",
        ")"
      ]
    },
    {
      "cell_type": "markdown",
      "metadata": {
        "id": "OsZzUuReR9mk"
      },
      "source": [
        "#### Training model\n",
        "This is similar to a sklearn model."
      ]
    },
    {
      "cell_type": "code",
      "execution_count": null,
      "metadata": {
        "id": "qVTev8KXR9mk"
      },
      "outputs": [],
      "source": [
        "model.fit(X_train, y_train, epochs=10,\n",
        "          validation_split=0.2, batch_size=32)"
      ]
    },
    {
      "cell_type": "markdown",
      "metadata": {
        "id": "r8Uvl_GjR9mk"
      },
      "source": [
        "#### Making predictions"
      ]
    },
    {
      "cell_type": "code",
      "execution_count": null,
      "metadata": {
        "id": "zdkm4NlxR9mk"
      },
      "outputs": [],
      "source": [
        "results = model.evaluate(X_test, y_test, verbose=0)\n",
        "print('Test Loss: {}'.format(results[0]))\n",
        "print('Test Accuracy: {}'.format(results[1]))"
      ]
    },
    {
      "cell_type": "code",
      "execution_count": null,
      "metadata": {
        "id": "QFUQpkwzR9ml"
      },
      "outputs": [],
      "source": [
        "y_pred = model.predict(X_test)\n",
        "y_pred[:3], y_test[:3]"
      ]
    },
    {
      "cell_type": "code",
      "execution_count": null,
      "metadata": {
        "id": "-cr6GPN0R9ml"
      },
      "outputs": [],
      "source": [
        "plot_decision_boundary(lambda x: (\n",
        "    model.predict(x) > 0.5).astype(\"int32\"), X_test, y_test)\n",
        "plt.title(\"Basic NN\");"
      ]
    },
    {
      "cell_type": "markdown",
      "metadata": {
        "id": "aPrTQMTNR9ml"
      },
      "source": [
        "### One hidden layer NN\n",
        "\n",
        "- One **input with 2 features (input_shape)**\n",
        "- **One hidden dense layer**,  with **3 neurons** and implemented with  **sigmoid activating function**\n",
        "- **One Output** (sigmoid output activation function)\n",
        "\n",
        "We can create layers incrementally with the method `add()`:"
      ]
    },
    {
      "cell_type": "code",
      "execution_count": null,
      "metadata": {
        "id": "OnpSceUZR9ml"
      },
      "outputs": [],
      "source": [
        "draw_neural_net(.1, .9, .1, .9, [2, 3, 1])"
      ]
    },
    {
      "cell_type": "code",
      "execution_count": null,
      "metadata": {
        "id": "uIj5M7XhR9ml"
      },
      "outputs": [],
      "source": [
        "model = keras.Sequential()\n",
        "\n",
        "## hidden layer with 3 neurons and sigmoid activation\n",
        "## The first layer need to have the input_shape\n",
        "model.add(layers.Dense(3, input_shape=(2,), activation='sigmoid'))\n",
        "\n",
        "# output layer\n",
        "model.add(layers.Dense(1, activation='sigmoid'))\n",
        "\n",
        "## model summary\n",
        "model.summary()"
      ]
    },
    {
      "cell_type": "markdown",
      "metadata": {
        "id": "O7n_qiS1R9ml"
      },
      "source": [
        "You can also define the model with a list of layers\n",
        "```python\n",
        "model = keras.Sequential([\n",
        "    keras.Input(shape=(2, )),\n",
        "    layers.Dense(3, activation='sigmoid', name='layer1'),\n",
        "    layers.Dense(1, activation='sigmoid', name='layer3')\n",
        "])\n",
        "````"
      ]
    },
    {
      "cell_type": "code",
      "execution_count": null,
      "metadata": {
        "id": "E3kMj_wwR9ml"
      },
      "outputs": [],
      "source": [
        "plot_model(model, show_shapes=True)"
      ]
    },
    {
      "cell_type": "code",
      "execution_count": null,
      "metadata": {
        "id": "ESA4qnF6R9ml"
      },
      "outputs": [],
      "source": [
        "## compiling and training\n",
        "model.compile(\n",
        "    optimizer='adam',\n",
        "    loss='binary_crossentropy',\n",
        "    metrics=['accuracy']\n",
        ")\n",
        "model.fit(X_train, y_train, epochs=25, validation_split=0.2, batch_size=32)"
      ]
    },
    {
      "cell_type": "code",
      "execution_count": null,
      "metadata": {
        "id": "G-HOzaLvR9ml"
      },
      "outputs": [],
      "source": [
        "results = model.evaluate(X_test, y_test, verbose=0)\n",
        "print('Test Loss: {}'.format(results[0]))\n",
        "print('Test Accuracy: {}'.format(results[1]))"
      ]
    },
    {
      "cell_type": "code",
      "execution_count": null,
      "metadata": {
        "id": "A9tBKjIiR9ml"
      },
      "outputs": [],
      "source": [
        "plot_decision_boundary(lambda x: (\n",
        "    model.predict(x) > 0.5).astype(\"int32\"), X_test, y_test)\n",
        "plt.title(\"1 Hidden layer NN\");"
      ]
    },
    {
      "cell_type": "markdown",
      "metadata": {
        "id": "W1fNhtwKR9ml"
      },
      "source": [
        "### Question 1:\n",
        "####  What happens if we change the activation function of the first hidden  layer to `'linear'`?"
      ]
    },
    {
      "cell_type": "code",
      "execution_count": null,
      "metadata": {
        "id": "hmjVHfyAR9ml"
      },
      "outputs": [],
      "source": [
        "model = keras.Sequential()\n",
        "## The first layer need to have the input_shape\n",
        "## change the activation function\n",
        "model.add(layers.Dense(3, input_shape=(2,), activation=...))\n",
        "# output layer\n",
        "model.add(layers.Dense(1, activation='sigmoid'))"
      ]
    },
    {
      "cell_type": "code",
      "execution_count": null,
      "metadata": {
        "id": "7ylC0e6iR9ml"
      },
      "outputs": [],
      "source": [
        "## compiling and training\n",
        "model.compile(\n",
        "    optimizer='adam',\n",
        "    loss='binary_crossentropy',\n",
        "    metrics=['accuracy']\n",
        ")\n",
        "model.fit(X_train, y_train, epochs=25, validation_split=0.2, batch_size=32)"
      ]
    },
    {
      "cell_type": "code",
      "execution_count": null,
      "metadata": {
        "id": "ceUZmngvR9mm"
      },
      "outputs": [],
      "source": [
        "results = model.evaluate(X_test, y_test, verbose=0)\n",
        "print('Test Loss: {}'.format(results[0]))\n",
        "print('Test Accuracy: {}'.format(results[1]))\n",
        "plot_decision_boundary(lambda x: (\n",
        "    model.predict(x) > 0.5).astype(\"int32\"), X_test, y_test)\n",
        "plt.title(\"1 Hidden layer NN, linear activation\");"
      ]
    },
    {
      "cell_type": "markdown",
      "metadata": {
        "id": "B9JNPK_qR9mm"
      },
      "source": [
        "### Question 2:\n",
        "####  What happens if we add more neurons to the first hidden layer ?"
      ]
    },
    {
      "cell_type": "code",
      "execution_count": null,
      "metadata": {
        "id": "Wco6tyYyR9mm"
      },
      "outputs": [],
      "source": [
        "draw_neural_net(.1, .9, .1, .9, [2, 5, 1])"
      ]
    },
    {
      "cell_type": "code",
      "execution_count": null,
      "metadata": {
        "id": "fP6ryIRWR9mm"
      },
      "outputs": [],
      "source": [
        "model = keras.Sequential()\n",
        "\n",
        "## The first layer need to have the input_shape\n",
        "## set the number of neurons\n",
        "model.add(layers.Dense(..., input_shape=(2,), activation='sigmoid'))\n",
        "\n",
        "# output layer\n",
        "model.add(layers.Dense(1, activation='sigmoid'))"
      ]
    },
    {
      "cell_type": "code",
      "execution_count": null,
      "metadata": {
        "id": "syZ8d7qIR9mq"
      },
      "outputs": [],
      "source": [
        "## compiling and training\n",
        "model.compile(\n",
        "    optimizer='adam',\n",
        "    loss='binary_crossentropy',\n",
        "    metrics=['accuracy']\n",
        ")\n",
        "model.fit(X_train, y_train, epochs=25, validation_split=0.2, batch_size=32)"
      ]
    },
    {
      "cell_type": "code",
      "execution_count": null,
      "metadata": {
        "id": "Jo61rfDUR9mq"
      },
      "outputs": [],
      "source": [
        "results = model.evaluate(X_test, y_test, verbose=0)\n",
        "print('Test Loss: {}'.format(results[0]))\n",
        "print('Test Accuracy: {}'.format(results[1]))\n",
        "plot_decision_boundary(lambda x: (\n",
        "    model.predict(x) > 0.5).astype(\"int32\"), X_test, y_test)\n",
        "plt.title(\"1 Hidden layer NN, linear activation\");"
      ]
    },
    {
      "cell_type": "markdown",
      "metadata": {
        "id": "lgj0KZxGR9mq"
      },
      "source": [
        "### Question 3:\n",
        "####  What happens if we add one more hidden layer ?"
      ]
    },
    {
      "cell_type": "code",
      "execution_count": null,
      "metadata": {
        "id": "kAgYwcyRR9mq"
      },
      "outputs": [],
      "source": [
        "draw_neural_net(.1, .9, .1, .9, [2, 3, 3, 1])"
      ]
    },
    {
      "cell_type": "code",
      "execution_count": null,
      "metadata": {
        "id": "fnxYBIGZR9mr"
      },
      "outputs": [],
      "source": [
        "model = keras.Sequential()\n",
        "# First hidden layer (need to innclude input_shape)\n",
        "## Set the number of neurons\n",
        "model.add(layers.Dense(..., input_shape=(2,), activation='sigmoid'))\n",
        "\n",
        "# second hidden layer\n",
        "## Complete the code\n",
        "model.add(...\n",
        "\n",
        "# output layer\n",
        "model.add(layers.Dense(1, activation='sigmoid'))"
      ]
    },
    {
      "cell_type": "code",
      "execution_count": null,
      "metadata": {
        "id": "YtNaGR0LR9mr"
      },
      "outputs": [],
      "source": [
        "## compiling and training\n",
        "model.compile(\n",
        "    optimizer='adam',\n",
        "    loss='binary_crossentropy',\n",
        "    metrics=['accuracy']\n",
        ")\n",
        "model.fit(X_train, y_train, epochs=25, validation_split=0.2, batch_size=32)"
      ]
    },
    {
      "cell_type": "code",
      "execution_count": null,
      "metadata": {
        "id": "PABHO3apR9mr"
      },
      "outputs": [],
      "source": [
        "results = model.evaluate(X_test, y_test, verbose=0)\n",
        "print('Test Loss: {}'.format(results[0]))\n",
        "print('Test Accuracy: {}'.format(results[1]))\n",
        "plot_decision_boundary(lambda x: (\n",
        "    model.predict(x) > 0.5).astype(\"int32\"), X_test, y_test)\n",
        "plt.title(\"1 Hidden layer NN, linear activation\");"
      ]
    },
    {
      "cell_type": "markdown",
      "metadata": {
        "id": "lXCnr-LwR9mr"
      },
      "source": [
        "####  Use  the [hyperbolic tangent](https://mathworld.wolfram.com/HyperbolicTangent.html) activation `'tanh'` with the first simple model and compare the results with the sigmoid activation"
      ]
    },
    {
      "cell_type": "code",
      "execution_count": null,
      "metadata": {
        "id": "fQXQrY1MR9mr"
      },
      "outputs": [],
      "source": [
        "model = keras.Sequential()\n",
        "## The first layer need to have the input_shape\n",
        "## change the activation function\n",
        "model.add(layers.Dense(3, input_shape=(2,), activation=...))\n",
        "# output layer\n",
        "model.add(layers.Dense(1, activation='sigmoid'))"
      ]
    },
    {
      "cell_type": "code",
      "execution_count": null,
      "metadata": {
        "id": "nipvpVnIR9mr"
      },
      "outputs": [],
      "source": [
        "## compiling and training\n",
        "model.compile(\n",
        "    optimizer='adam',\n",
        "    loss='binary_crossentropy',\n",
        "    metrics=['accuracy']\n",
        ")\n",
        "model.fit(X_train, y_train, epochs=25, validation_split=0.2, batch_size=32)"
      ]
    },
    {
      "cell_type": "code",
      "execution_count": null,
      "metadata": {
        "id": "vPVBlUKTR9mr"
      },
      "outputs": [],
      "source": [
        "results = model.evaluate(X_test, y_test, verbose=0)\n",
        "print('Test Loss: {}'.format(results[0]))\n",
        "print('Test Accuracy: {}'.format(results[1]))\n",
        "plot_decision_boundary(lambda x: (\n",
        "    model.predict(x) > 0.5).astype(\"int32\"), X_test, y_test)\n",
        "plt.title(\"1 Hidden layer NN, linear activation\");"
      ]
    },
    {
      "cell_type": "markdown",
      "metadata": {
        "id": "VfaXEyfwR9mr"
      },
      "source": [
        "## Practice I\n",
        "\n",
        "Repeat the process with a different dataset."
      ]
    },
    {
      "cell_type": "code",
      "execution_count": 7,
      "metadata": {
        "id": "Z8CjDoNjR9mr"
      },
      "outputs": [],
      "source": [
        "N = 5000\n",
        "X, y = sklearn.datasets.make_moons(n_samples=N, noise=.18)"
      ]
    },
    {
      "cell_type": "code",
      "execution_count": 8,
      "metadata": {
        "id": "56tDyQRYR9mr",
        "outputId": "75d83341-2c11-4bc1-b74b-47a812adf215",
        "colab": {
          "base_uri": "https://localhost:8080/",
          "height": 430
        }
      },
      "outputs": [
        {
          "output_type": "display_data",
          "data": {
            "text/plain": [
              "<Figure size 640x480 with 1 Axes>"
            ],
            "image/png": "[encoded data removed]"
          },
          "metadata": {}
        }
      ],
      "source": [
        "# Visualize the data:\n",
        "plt.scatter(X[:,0], X[:,1], c=y.ravel(), s=40, cmap=plt.cm.Spectral);"
      ]
    },
    {
      "cell_type": "code",
      "execution_count": 9,
      "metadata": {
        "id": "uWmTBufXR9ms",
        "outputId": "2ce9a586-d792-4320-89a2-acef7baf2a1b",
        "colab": {
          "base_uri": "https://localhost:8080/"
        }
      },
      "outputs": [
        {
          "output_type": "stream",
          "name": "stdout",
          "text": [
            "X shape:(5000, 2), y shape:(5000,)\n",
            "X_train shape:(3750, 2), y_train shape:(3750,)\n",
            "X_test shape:(1250, 2), y_test shape:(1250,)\n"
          ]
        }
      ],
      "source": [
        "# train test split\n",
        "from sklearn.model_selection import train_test_split\n",
        "\n",
        "(X_train, X_test, y_train, y_test) = train_test_split(\n",
        "    X,\n",
        "    y,\n",
        "    test_size=0.25,\n",
        ")\n",
        "print('X shape:{0}, y shape:{1}'.format(X.shape, y.shape))\n",
        "print('X_train shape:{0}, y_train shape:{1}'.format(X_train.shape,\n",
        "                                                    y_train.shape))\n",
        "print('X_test shape:{0}, y_test shape:{1}'.format(X_test.shape, y_test.shape))"
      ]
    },
    {
      "cell_type": "markdown",
      "metadata": {
        "id": "cv-i7XdAR9ms"
      },
      "source": [
        "### Define your model"
      ]
    },
    {
      "cell_type": "code",
      "execution_count": 12,
      "metadata": {
        "id": "O5b8IrJCR9ms"
      },
      "outputs": [],
      "source": [
        "model = keras.Sequential()\n",
        "## The first layer need to have the input_shape\n",
        "model.add(layers.Dense(16, input_shape=(2,), activation='relu'))\n",
        "\n",
        "## Second Layer, don't use input_shape\n",
        "model.add(layers.Dense(16, input_shape=(2,), activation='relu'))\n",
        "\n",
        "# output layer\n",
        "model.add(layers.Dense(1, activation='relu'))# se pone 1 porque es una clasificacion binaria"
      ]
    },
    {
      "cell_type": "code",
      "execution_count": 13,
      "metadata": {
        "id": "S_vxm7RMR9ms",
        "outputId": "da2611a9-59a7-4802-9780-76b774effd48",
        "colab": {
          "base_uri": "https://localhost:8080/"
        }
      },
      "outputs": [
        {
          "output_type": "stream",
          "name": "stdout",
          "text": [
            "Epoch 1/35\n",
            "\u001b[1m47/47\u001b[0m \u001b[32m━━━━━━━━━━━━━━━━━━━━\u001b[0m\u001b[37m\u001b[0m \u001b[1m2s\u001b[0m 8ms/step - accuracy: 0.5054 - loss: 4.2291 - val_accuracy: 0.4920 - val_loss: 1.1455\n",
            "Epoch 2/35\n",
            "\u001b[1m47/47\u001b[0m \u001b[32m━━━━━━━━━━━━━━━━━━━━\u001b[0m\u001b[37m\u001b[0m \u001b[1m0s\u001b[0m 4ms/step - accuracy: 0.5062 - loss: 1.0114 - val_accuracy: 0.5093 - val_loss: 0.7764\n",
            "Epoch 3/35\n",
            "\u001b[1m47/47\u001b[0m \u001b[32m━━━━━━━━━━━━━━━━━━━━\u001b[0m\u001b[37m\u001b[0m \u001b[1m0s\u001b[0m 4ms/step - accuracy: 0.5532 - loss: 0.6884 - val_accuracy: 0.6360 - val_loss: 0.5312\n",
            "Epoch 4/35\n",
            "\u001b[1m47/47\u001b[0m \u001b[32m━━━━━━━━━━━━━━━━━━━━\u001b[0m\u001b[37m\u001b[0m \u001b[1m0s\u001b[0m 4ms/step - accuracy: 0.6977 - loss: 0.4708 - val_accuracy: 0.8427 - val_loss: 0.3518\n",
            "Epoch 5/35\n",
            "\u001b[1m47/47\u001b[0m \u001b[32m━━━━━━━━━━━━━━━━━━━━\u001b[0m\u001b[37m\u001b[0m \u001b[1m0s\u001b[0m 5ms/step - accuracy: 0.8762 - loss: 0.3431 - val_accuracy: 0.9133 - val_loss: 0.2500\n",
            "Epoch 6/35\n",
            "\u001b[1m47/47\u001b[0m \u001b[32m━━━━━━━━━━━━━━━━━━━━\u001b[0m\u001b[37m\u001b[0m \u001b[1m0s\u001b[0m 4ms/step - accuracy: 0.9043 - loss: 0.3139 - val_accuracy: 0.9173 - val_loss: 0.2195\n",
            "Epoch 7/35\n",
            "\u001b[1m47/47\u001b[0m \u001b[32m━━━━━━━━━━━━━━━━━━━━\u001b[0m\u001b[37m\u001b[0m \u001b[1m0s\u001b[0m 6ms/step - accuracy: 0.9084 - loss: 0.2785 - val_accuracy: 0.9187 - val_loss: 0.2047\n",
            "Epoch 8/35\n",
            "\u001b[1m47/47\u001b[0m \u001b[32m━━━━━━━━━━━━━━━━━━━━\u001b[0m\u001b[37m\u001b[0m \u001b[1m0s\u001b[0m 7ms/step - accuracy: 0.9135 - loss: 0.2646 - val_accuracy: 0.9213 - val_loss: 0.1923\n",
            "Epoch 9/35\n",
            "\u001b[1m47/47\u001b[0m \u001b[32m━━━━━━━━━━━━━━━━━━━━\u001b[0m\u001b[37m\u001b[0m \u001b[1m1s\u001b[0m 6ms/step - accuracy: 0.9148 - loss: 0.2520 - val_accuracy: 0.9200 - val_loss: 0.1912\n",
            "Epoch 10/35\n",
            "\u001b[1m47/47\u001b[0m \u001b[32m━━━━━━━━━━━━━━━━━━━━\u001b[0m\u001b[37m\u001b[0m \u001b[1m1s\u001b[0m 9ms/step - accuracy: 0.9167 - loss: 0.2405 - val_accuracy: 0.9267 - val_loss: 0.1751\n",
            "Epoch 11/35\n",
            "\u001b[1m47/47\u001b[0m \u001b[32m━━━━━━━━━━━━━━━━━━━━\u001b[0m\u001b[37m\u001b[0m \u001b[1m0s\u001b[0m 6ms/step - accuracy: 0.9232 - loss: 0.2294 - val_accuracy: 0.9307 - val_loss: 0.1609\n",
            "Epoch 12/35\n",
            "\u001b[1m47/47\u001b[0m \u001b[32m━━━━━━━━━━━━━━━━━━━━\u001b[0m\u001b[37m\u001b[0m \u001b[1m0s\u001b[0m 4ms/step - accuracy: 0.9226 - loss: 0.2195 - val_accuracy: 0.9320 - val_loss: 0.1521\n",
            "Epoch 13/35\n",
            "\u001b[1m47/47\u001b[0m \u001b[32m━━━━━━━━━━━━━━━━━━━━\u001b[0m\u001b[37m\u001b[0m \u001b[1m0s\u001b[0m 4ms/step - accuracy: 0.9250 - loss: 0.2110 - val_accuracy: 0.9320 - val_loss: 0.1440\n",
            "Epoch 14/35\n",
            "\u001b[1m47/47\u001b[0m \u001b[32m━━━━━━━━━━━━━━━━━━━━\u001b[0m\u001b[37m\u001b[0m \u001b[1m0s\u001b[0m 4ms/step - accuracy: 0.9298 - loss: 0.2010 - val_accuracy: 0.9333 - val_loss: 0.1390\n",
            "Epoch 15/35\n",
            "\u001b[1m47/47\u001b[0m \u001b[32m━━━━━━━━━━━━━━━━━━━━\u001b[0m\u001b[37m\u001b[0m \u001b[1m0s\u001b[0m 4ms/step - accuracy: 0.9326 - loss: 0.1923 - val_accuracy: 0.9347 - val_loss: 0.1560\n",
            "Epoch 16/35\n",
            "\u001b[1m47/47\u001b[0m \u001b[32m━━━━━━━━━━━━━━━━━━━━\u001b[0m\u001b[37m\u001b[0m \u001b[1m0s\u001b[0m 4ms/step - accuracy: 0.9339 - loss: 0.1630 - val_accuracy: 0.9387 - val_loss: 0.1311\n",
            "Epoch 17/35\n",
            "\u001b[1m47/47\u001b[0m \u001b[32m━━━━━━━━━━━━━━━━━━━━\u001b[0m\u001b[37m\u001b[0m \u001b[1m0s\u001b[0m 4ms/step - accuracy: 0.9346 - loss: 0.1519 - val_accuracy: 0.9427 - val_loss: 0.1252\n",
            "Epoch 18/35\n",
            "\u001b[1m47/47\u001b[0m \u001b[32m━━━━━━━━━━━━━━━━━━━━\u001b[0m\u001b[37m\u001b[0m \u001b[1m0s\u001b[0m 4ms/step - accuracy: 0.9356 - loss: 0.1483 - val_accuracy: 0.9453 - val_loss: 0.1218\n",
            "Epoch 19/35\n",
            "\u001b[1m47/47\u001b[0m \u001b[32m━━━━━━━━━━━━━━━━━━━━\u001b[0m\u001b[37m\u001b[0m \u001b[1m0s\u001b[0m 4ms/step - accuracy: 0.9362 - loss: 0.1442 - val_accuracy: 0.9480 - val_loss: 0.1189\n",
            "Epoch 20/35\n",
            "\u001b[1m47/47\u001b[0m \u001b[32m━━━━━━━━━━━━━━━━━━━━\u001b[0m\u001b[37m\u001b[0m \u001b[1m0s\u001b[0m 4ms/step - accuracy: 0.9379 - loss: 0.1405 - val_accuracy: 0.9507 - val_loss: 0.1165\n",
            "Epoch 21/35\n",
            "\u001b[1m47/47\u001b[0m \u001b[32m━━━━━━━━━━━━━━━━━━━━\u001b[0m\u001b[37m\u001b[0m \u001b[1m0s\u001b[0m 4ms/step - accuracy: 0.9389 - loss: 0.1373 - val_accuracy: 0.9533 - val_loss: 0.1144\n",
            "Epoch 22/35\n",
            "\u001b[1m47/47\u001b[0m \u001b[32m━━━━━━━━━━━━━━━━━━━━\u001b[0m\u001b[37m\u001b[0m \u001b[1m0s\u001b[0m 4ms/step - accuracy: 0.9394 - loss: 0.1342 - val_accuracy: 0.9560 - val_loss: 0.1127\n",
            "Epoch 23/35\n",
            "\u001b[1m47/47\u001b[0m \u001b[32m━━━━━━━━━━━━━━━━━━━━\u001b[0m\u001b[37m\u001b[0m \u001b[1m0s\u001b[0m 4ms/step - accuracy: 0.9393 - loss: 0.1314 - val_accuracy: 0.9560 - val_loss: 0.1110\n",
            "Epoch 24/35\n",
            "\u001b[1m47/47\u001b[0m \u001b[32m━━━━━━━━━━━━━━━━━━━━\u001b[0m\u001b[37m\u001b[0m \u001b[1m0s\u001b[0m 5ms/step - accuracy: 0.9410 - loss: 0.1286 - val_accuracy: 0.9573 - val_loss: 0.1109\n",
            "Epoch 25/35\n",
            "\u001b[1m47/47\u001b[0m \u001b[32m━━━━━━━━━━━━━━━━━━━━\u001b[0m\u001b[37m\u001b[0m \u001b[1m0s\u001b[0m 4ms/step - accuracy: 0.9412 - loss: 0.1260 - val_accuracy: 0.9613 - val_loss: 0.1217\n",
            "Epoch 26/35\n",
            "\u001b[1m47/47\u001b[0m \u001b[32m━━━━━━━━━━━━━━━━━━━━\u001b[0m\u001b[37m\u001b[0m \u001b[1m0s\u001b[0m 4ms/step - accuracy: 0.9442 - loss: 0.1236 - val_accuracy: 0.9653 - val_loss: 0.1196\n",
            "Epoch 27/35\n",
            "\u001b[1m47/47\u001b[0m \u001b[32m━━━━━━━━━━━━━━━━━━━━\u001b[0m\u001b[37m\u001b[0m \u001b[1m0s\u001b[0m 4ms/step - accuracy: 0.9480 - loss: 0.1210 - val_accuracy: 0.9640 - val_loss: 0.1179\n",
            "Epoch 28/35\n",
            "\u001b[1m47/47\u001b[0m \u001b[32m━━━━━━━━━━━━━━━━━━━━\u001b[0m\u001b[37m\u001b[0m \u001b[1m0s\u001b[0m 4ms/step - accuracy: 0.9480 - loss: 0.1194 - val_accuracy: 0.9653 - val_loss: 0.1157\n",
            "Epoch 29/35\n",
            "\u001b[1m47/47\u001b[0m \u001b[32m━━━━━━━━━━━━━━━━━━━━\u001b[0m\u001b[37m\u001b[0m \u001b[1m0s\u001b[0m 4ms/step - accuracy: 0.9503 - loss: 0.1162 - val_accuracy: 0.9653 - val_loss: 0.1136\n",
            "Epoch 30/35\n",
            "\u001b[1m47/47\u001b[0m \u001b[32m━━━━━━━━━━━━━━━━━━━━\u001b[0m\u001b[37m\u001b[0m \u001b[1m0s\u001b[0m 4ms/step - accuracy: 0.9505 - loss: 0.1141 - val_accuracy: 0.9653 - val_loss: 0.1116\n",
            "Epoch 31/35\n",
            "\u001b[1m47/47\u001b[0m \u001b[32m━━━━━━━━━━━━━━━━━━━━\u001b[0m\u001b[37m\u001b[0m \u001b[1m0s\u001b[0m 4ms/step - accuracy: 0.9533 - loss: 0.1118 - val_accuracy: 0.9653 - val_loss: 0.1096\n",
            "Epoch 32/35\n",
            "\u001b[1m47/47\u001b[0m \u001b[32m━━━━━━━━━━━━━━━━━━━━\u001b[0m\u001b[37m\u001b[0m \u001b[1m0s\u001b[0m 4ms/step - accuracy: 0.9526 - loss: 0.1095 - val_accuracy: 0.9667 - val_loss: 0.1077\n",
            "Epoch 33/35\n",
            "\u001b[1m47/47\u001b[0m \u001b[32m━━━━━━━━━━━━━━━━━━━━\u001b[0m\u001b[37m\u001b[0m \u001b[1m0s\u001b[0m 4ms/step - accuracy: 0.9518 - loss: 0.1072 - val_accuracy: 0.9653 - val_loss: 0.1063\n",
            "Epoch 34/35\n",
            "\u001b[1m47/47\u001b[0m \u001b[32m━━━━━━━━━━━━━━━━━━━━\u001b[0m\u001b[37m\u001b[0m \u001b[1m0s\u001b[0m 4ms/step - accuracy: 0.9563 - loss: 0.1048 - val_accuracy: 0.9680 - val_loss: 0.1045\n",
            "Epoch 35/35\n",
            "\u001b[1m47/47\u001b[0m \u001b[32m━━━━━━━━━━━━━━━━━━━━\u001b[0m\u001b[37m\u001b[0m \u001b[1m0s\u001b[0m 4ms/step - accuracy: 0.9575 - loss: 0.1023 - val_accuracy: 0.9707 - val_loss: 0.1027\n"
          ]
        },
        {
          "output_type": "execute_result",
          "data": {
            "text/plain": [
              "<keras.src.callbacks.history.History at 0x7e910db5ea10>"
            ]
          },
          "metadata": {},
          "execution_count": 13
        }
      ],
      "source": [
        "## compiling and training\n",
        "model.compile(\n",
        "    optimizer='adam',\n",
        "    loss='binary_crossentropy',\n",
        "    metrics=['accuracy']\n",
        ")\n",
        "model.fit(X_train, y_train, epochs=35, validation_split=0.2, batch_size=64)"
      ]
    },
    {
      "cell_type": "code",
      "execution_count": 14,
      "metadata": {
        "scrolled": true,
        "id": "5Mj_w0haR9ms",
        "outputId": "6d828b94-7416-4755-8100-c46c6a3cb091",
        "colab": {
          "base_uri": "https://localhost:8080/",
          "height": 236
        }
      },
      "outputs": [
        {
          "output_type": "stream",
          "name": "stdout",
          "text": [
            "Test Loss: 0.10100246220827103\n",
            "Test Accuracy: 0.9711999893188477\n"
          ]
        },
        {
          "output_type": "error",
          "ename": "NameError",
          "evalue": "name 'plot_decision_boundary' is not defined",
          "traceback": [
            "\u001b[0;31m---------------------------------------------------------------------------\u001b[0m",
            "\u001b[0;31mNameError\u001b[0m                                 Traceback (most recent call last)",
            "\u001b[0;32m<ipython-input-14-2cba58150a45>\u001b[0m in \u001b[0;36m<cell line: 0>\u001b[0;34m()\u001b[0m\n\u001b[1;32m      2\u001b[0m \u001b[0mprint\u001b[0m\u001b[0;34m(\u001b[0m\u001b[0;34m'Test Loss: {}'\u001b[0m\u001b[0;34m.\u001b[0m\u001b[0mformat\u001b[0m\u001b[0;34m(\u001b[0m\u001b[0mresults\u001b[0m\u001b[0;34m[\u001b[0m\u001b[0;36m0\u001b[0m\u001b[0;34m]\u001b[0m\u001b[0;34m)\u001b[0m\u001b[0;34m)\u001b[0m\u001b[0;34m\u001b[0m\u001b[0;34m\u001b[0m\u001b[0m\n\u001b[1;32m      3\u001b[0m \u001b[0mprint\u001b[0m\u001b[0;34m(\u001b[0m\u001b[0;34m'Test Accuracy: {}'\u001b[0m\u001b[0;34m.\u001b[0m\u001b[0mformat\u001b[0m\u001b[0;34m(\u001b[0m\u001b[0mresults\u001b[0m\u001b[0;34m[\u001b[0m\u001b[0;36m1\u001b[0m\u001b[0;34m]\u001b[0m\u001b[0;34m)\u001b[0m\u001b[0;34m)\u001b[0m\u001b[0;34m\u001b[0m\u001b[0;34m\u001b[0m\u001b[0m\n\u001b[0;32m----> 4\u001b[0;31m plot_decision_boundary(lambda x: (\n\u001b[0m\u001b[1;32m      5\u001b[0m     model.predict(x) > 0.5).astype(\"int32\"), X_test, y_test)\n",
            "\u001b[0;31mNameError\u001b[0m: name 'plot_decision_boundary' is not defined"
          ]
        }
      ],
      "source": [
        "results = model.evaluate(X_test, y_test, verbose=0)\n",
        "print('Test Loss: {}'.format(results[0]))\n",
        "print('Test Accuracy: {}'.format(results[1]))\n",
        "plot_decision_boundary(lambda x: (\n",
        "    model.predict(x) > 0.5).astype(\"int32\"), X_test, y_test)"
      ]
    },
    {
      "cell_type": "markdown",
      "metadata": {
        "id": "7312VDPTR9ms"
      },
      "source": [
        "## Saving and Loading Keras Models\n",
        "\n",
        "You can easily save your entire model (architecture, weights, and optimizer state) in a single call using either `.keras` or `.h5` formats.\n",
        "\n",
        "- **`.keras`**: The default and recommended format from TensorFlow 2.12 onwards. It includes comprehensive model metadata and is future-proof.\n",
        "- **`.h5`**: An older HDF5 format that is still widely used due to its simplicity and compatibility.\n"
      ]
    },
    {
      "cell_type": "code",
      "execution_count": null,
      "metadata": {
        "id": "fZcewtp1R9ms"
      },
      "outputs": [],
      "source": [
        "import datetime\n",
        "\n",
        "# Save model with timestamp\n",
        "current_time = datetime.datetime.now().strftime(\"%Y%m%d-%H%M%S\")\n",
        "model_name_keras = f\"keras_model_{current_time}.keras\"\n",
        "model_name_h5 = f\"keras_model_{current_time}.h5\"\n",
        "\n",
        "# Save in .keras format (recommended for TensorFlow/Keras > 2.12)\n",
        "model.save(model_name_keras)\n",
        "\n",
        "# Alternatively, save in .h5 format\n",
        "model.save(model_name_h5)\n",
        "\n",
        "print(f\"Models saved as: {model_name_keras} and {model_name_h5}\")"
      ]
    },
    {
      "cell_type": "code",
      "execution_count": null,
      "metadata": {
        "id": "AZ7ueZzSR9ms"
      },
      "outputs": [],
      "source": [
        "# List files in current directory\n",
        "!ls -l"
      ]
    },
    {
      "cell_type": "code",
      "execution_count": null,
      "metadata": {
        "id": "NQn1EWIBR9ms"
      },
      "outputs": [],
      "source": [
        "from tensorflow.keras.models import load_model\n",
        "\n",
        "# Load your previously saved model\n",
        "loaded_model = load_model(model_name_keras)  # or .h5\n",
        "\n",
        "# Evaluate loaded model\n",
        "loss, accuracy = loaded_model.evaluate(X_test, y_test)\n",
        "print(f\"Loaded model accuracy: {accuracy*100:.2f}%\")"
      ]
    },
    {
      "cell_type": "markdown",
      "metadata": {
        "id": "os4XqmukR9mt"
      },
      "source": [
        "### Question 4: Train 10 epochs, save the model, load it, and then train 10 more epochs"
      ]
    },
    {
      "cell_type": "code",
      "execution_count": null,
      "metadata": {
        "id": "m_VszklnR9mt"
      },
      "outputs": [],
      "source": [
        "model = keras.Sequential()\n",
        "## The first layer need to have the input_shape\n",
        "model.add(layers...(..., input_shape=(...,), activation=...))\n",
        "\n",
        "## Second Layer, don't use input_shape\n",
        "model...(...)\n",
        "\n",
        "# output layer\n",
        "model.add(layers.Dense(..., activation=...))"
      ]
    },
    {
      "cell_type": "code",
      "execution_count": null,
      "metadata": {
        "id": "5zT_agyNR9mt"
      },
      "outputs": [],
      "source": [
        "## compiling and training\n",
        "model.compile(\n",
        "    optimizer='adam',\n",
        "    loss='binary_crossentropy',\n",
        "    metrics=['accuracy']\n",
        ")\n",
        "model.fit(X_train, y_train, epochs=..., validation_split=0.2, batch_size=64)"
      ]
    },
    {
      "cell_type": "code",
      "execution_count": null,
      "metadata": {
        "id": "NHKdqqj6R9mt"
      },
      "outputs": [],
      "source": [
        "# Save the model\n",
        "model_name = ...\n",
        "model.save(..."
      ]
    },
    {
      "cell_type": "code",
      "execution_count": null,
      "metadata": {
        "id": "mfhLPqeCR9mt"
      },
      "outputs": [],
      "source": [
        "# load the model\n",
        "\n"
      ]
    },
    {
      "cell_type": "code",
      "execution_count": null,
      "metadata": {
        "id": "sorcLxntR9mt"
      },
      "outputs": [],
      "source": [
        "# Train the model 10 more epochs\n",
        "model.fit(X_train, y_train, epochs=..., validation_split=0.2, batch_size=64)"
      ]
    },
    {
      "cell_type": "markdown",
      "metadata": {
        "id": "0RHtZ6hNR9mt"
      },
      "source": [
        "## Functional API\n",
        "\n",
        "The Keras Functional API allows defining the topology of the models as a [acyclic directed graph](https://en.wikipedia.org/wiki/Directed_acyclic_graph) of layers. Next we will build the same model as in the previous section but using the Keras Functional API.\n",
        "\n",
        "You need to start with an input data entry:\n",
        "```python    \n",
        "    inputs = keras.Input(shape=(8,))\n",
        "```\n",
        "    \n",
        "We define the layers that we will include in the network and the relationships between them. It is important to note that each line details the type of layer and its properties (number of neurons, activation function, name ...) and just at the end, in parentheses, the name of the variable in which we have saved the layer from which its output will connect to the input of the layer we are declaring.\n",
        "```python\n",
        "layer_1 = layers.Dense(4, activation='sigmoid',\n",
        "                       name='layer_1')(inputs)\n",
        "layer_2 = layers.Dense(4, activation='sigmoid',\n",
        "                       name='layer_2')(layer_1)\n",
        "```\n",
        "\n",
        "The \"layer call\" `Dense()(inputs)` action is like drawing an arrow from \"inputs\" to this layer you created. You're \"passing\" the inputs to the dense layer, and you get `layer_1` as the output.\n",
        "\n",
        "  \n",
        "\n",
        "Finally, we define the network outputs:\n",
        "```python\n",
        "outputs = layers.Dense(1, name='output_layer')(layer_2)\n",
        "```\n",
        "\n",
        "We create the model specifying the inputs and outputs:\n",
        "```python\n",
        "model = keras.Model(inputs=inputs, outputs=outputs)\n",
        "```"
      ]
    },
    {
      "cell_type": "code",
      "execution_count": null,
      "metadata": {
        "id": "gd-0nw83R9mt"
      },
      "outputs": [],
      "source": [
        "draw_neural_net(.1, .9, .1, .9, [8, 4, 4, 1])"
      ]
    },
    {
      "cell_type": "code",
      "execution_count": null,
      "metadata": {
        "id": "v3WqMjxiR9mt"
      },
      "outputs": [],
      "source": [
        "inputs = keras.Input(shape=(8, ), name='input_layer')\n",
        "l_1 = layers.Dense(4, activation='relu', name='layer_1')(inputs)\n",
        "l_2 = layers.Dense(4, activation='relu', name='layer_2')(l_1)\n",
        "outputs = layers.Dense(1, name='output_layer')(l_2)\n",
        "\n",
        "model = keras.Model(inputs=inputs, outputs=outputs, name='example_model')\n",
        "\n",
        "model.summary()"
      ]
    },
    {
      "cell_type": "code",
      "execution_count": null,
      "metadata": {
        "id": "aWiB95HOR9mu"
      },
      "outputs": [],
      "source": [
        "plot_model(model, show_shapes=True)"
      ]
    },
    {
      "cell_type": "markdown",
      "metadata": {
        "id": "WfW8TiaKR9mu"
      },
      "source": [
        "## Practice II\n",
        "\n",
        "Repeat the process with a different dataset and the **Functional API**"
      ]
    },
    {
      "cell_type": "code",
      "execution_count": null,
      "metadata": {
        "id": "uwXEVyvmR9mu"
      },
      "outputs": [],
      "source": [
        "N = 5000\n",
        "X, y = sklearn.datasets.make_circles(n_samples=N, factor=.65, noise=.065) # sklearn.datasets.make_moons(n_samples=N, noise=.15)"
      ]
    },
    {
      "cell_type": "code",
      "execution_count": null,
      "metadata": {
        "id": "HSqMYdssR9mu"
      },
      "outputs": [],
      "source": [
        "# Visualize the data:\n",
        "plt.scatter(X[:,0], X[:,1], c=y.ravel(), s=40, cmap=plt.cm.Spectral);"
      ]
    },
    {
      "cell_type": "code",
      "execution_count": null,
      "metadata": {
        "id": "hzsyePsIR9mu"
      },
      "outputs": [],
      "source": [
        "# train test split\n",
        "from sklearn.model_selection import train_test_split\n",
        "\n",
        "(X_train, X_test, y_train, y_test) = train_test_split(\n",
        "    X,\n",
        "    y,\n",
        "    test_size=0.25,\n",
        ")\n",
        "print('X shape:{0}, y shape:{1}'.format(X.shape, y.shape))\n",
        "print('X_train shape:{0}, y_train shape:{1}'.format(X_train.shape,\n",
        "                                                    y_train.shape))\n",
        "print('X_test shape:{0}, y_test shape:{1}'.format(X_test.shape, y_test.shape))"
      ]
    },
    {
      "cell_type": "markdown",
      "metadata": {
        "id": "86j7IQ3CR9mu"
      },
      "source": [
        "### Define your model"
      ]
    },
    {
      "cell_type": "code",
      "execution_count": null,
      "metadata": {
        "id": "_vkVaI6QR9mu"
      },
      "outputs": [],
      "source": [
        "inputs = keras.Input(shape=(2, ), name='input_layer')\n",
        "## First hidden layer\n",
        "l_1 = layers.Dense(...)(inputs)\n",
        "...\n",
        "\n",
        "## output layer\n",
        "outputs = layers.Dense(...\n",
        "\n",
        "\n",
        "model = keras.Model(inputs=inputs,..."
      ]
    },
    {
      "cell_type": "code",
      "execution_count": null,
      "metadata": {
        "id": "XANyAiB7R9mu"
      },
      "outputs": [],
      "source": [
        "## compiling and training\n",
        "model.compile(\n",
        "    optimizer='adam',\n",
        "    loss='binary_crossentropy',\n",
        "    metrics=['accuracy']\n",
        ")\n",
        "model.fit(X_train, y_train, epochs=35, validation_split=0.2, batch_size=64)"
      ]
    },
    {
      "cell_type": "code",
      "execution_count": null,
      "metadata": {
        "id": "kBlZ2TxvR9mu"
      },
      "outputs": [],
      "source": [
        "results = model.evaluate(X_test, y_test, verbose=0)\n",
        "print('Test Loss: {}'.format(results[0]))\n",
        "print('Test Accuracy: {}'.format(results[1]))\n",
        "plot_decision_boundary(lambda x: (\n",
        "    model.predict(x) > 0.5).astype(\"int32\"), X_test, y_test)"
      ]
    },
    {
      "cell_type": "markdown",
      "metadata": {
        "id": "ppujml2PR9mv"
      },
      "source": [
        "## Visualize decision boundary by epoch"
      ]
    },
    {
      "cell_type": "code",
      "execution_count": null,
      "metadata": {
        "id": "jUtruvMyR9mv"
      },
      "outputs": [],
      "source": [
        "from sklearn.preprocessing import StandardScaler\n",
        "from IPython.display import Image\n",
        "import os"
      ]
    },
    {
      "cell_type": "code",
      "execution_count": null,
      "metadata": {
        "id": "MwoQXagfR9mv"
      },
      "outputs": [],
      "source": [
        "def plot_save_decision_boundary(model, X, y, epoch, epoch_image):\n",
        "    h = 0.1\n",
        "    x_min, x_max = X[:, 0].min() - 1, X[:, 0].max() + 1\n",
        "    y_min, y_max = X[:, 1].min() - 1, X[:, 1].max() + 1\n",
        "    xx, yy = np.meshgrid(np.arange(x_min, x_max, h),\n",
        "                         np.arange(y_min, y_max, h))\n",
        "\n",
        "    X_grid = np.c_[xx.ravel(), yy.ravel()]\n",
        "    Z = model.predict(X_grid)\n",
        "    Z = Z.reshape(xx.shape)\n",
        "\n",
        "    plt.contourf(xx, yy, Z, alpha=0.5, colors=['blue', 'red'], levels=[-0.5, 0.5, 1.5])\n",
        "    plt.scatter(X[y[:, 0] == 0][:, 0], X[y[:, 0] == 0][:, 1], color='blue', label='Class 0', alpha=0.5)\n",
        "    plt.scatter(X[y[:, 0] == 1][:, 0], X[y[:, 0] == 1][:, 1], color='red', label='Class 1', alpha=0.5)\n",
        "    plt.title(f'Epoch {epoch}')\n",
        "    plt.savefig(epoch_image)\n",
        "    plt.close()\n",
        "\n",
        "def generate_spiral_dataset(n_points, noise=0.5):\n",
        "    n = np.sqrt(np.random.rand(n_points, 1)) * 780 * (2 * np.pi) / 360\n",
        "    d1x = -np.cos(n) * n + np.random.rand(n_points, 1) * noise\n",
        "    d1y = np.sin(n) * n + np.random.rand(n_points, 1) * noise\n",
        "\n",
        "    X, y = (np.vstack((np.hstack((d1x, d1y)), np.hstack((-d1x, -d1y)))),\n",
        "            np.hstack((np.zeros(n_points), np.ones(n_points))))\n",
        "    return X, y.reshape(-1, 1)\n",
        "\n",
        "n_points = 2500\n",
        "X, y = generate_spiral_dataset(n_points)"
      ]
    },
    {
      "cell_type": "code",
      "execution_count": null,
      "metadata": {
        "id": "m-NetPtJR9mv"
      },
      "outputs": [],
      "source": [
        "plt.scatter(X[y[:, 0] == 0][:, 0], X[y[:, 0] == 0][:, 1], color='blue', label='Class 0')\n",
        "plt.scatter(X[y[:, 0] == 1][:, 0], X[y[:, 0] == 1][:, 1], color='red', label='Class 1')\n",
        "plt.legend()\n",
        "plt.show()"
      ]
    },
    {
      "cell_type": "code",
      "execution_count": null,
      "metadata": {
        "id": "-XR0DwGIR9mv"
      },
      "outputs": [],
      "source": [
        "# Normalize data\n",
        "X_train, X_test, y_train, y_test = train_test_split(X, y, test_size=0.3, random_state=42)\n",
        "scaler = StandardScaler()\n",
        "X_train = scaler.fit_transform(X_train)\n",
        "X_test = scaler.transform(X_test)"
      ]
    },
    {
      "cell_type": "code",
      "execution_count": null,
      "metadata": {
        "id": "g4xMqQDUR9mv"
      },
      "outputs": [],
      "source": [
        "model = tf.keras.Sequential([\n",
        "    tf.keras.layers.Dense(16, activation='relu', input_shape=(2,)),\n",
        "    tf.keras.layers.Dense(1, activation='sigmoid')\n",
        "])\n",
        "\n",
        "model.compile(optimizer=tf.keras.optimizers.Adam(learning_rate=0.01),\n",
        "              loss='binary_crossentropy',\n",
        "              metrics=['accuracy'])\n",
        "\n",
        "n_epochs = 60\n",
        "epoch_images = []\n",
        "\n",
        "for epoch in range(n_epochs):\n",
        "    model.fit(X_train, y_train, epochs=1, verbose=0)\n",
        "    epoch_image = f'epoch_{epoch}.png'\n",
        "    epoch_images.append(epoch_image)\n",
        "\n",
        "    plot_save_decision_boundary(model, X_test, y_test, epoch, epoch_image)"
      ]
    },
    {
      "cell_type": "code",
      "execution_count": null,
      "metadata": {
        "id": "3fDQc8WKR9mv"
      },
      "outputs": [],
      "source": [
        "from PIL import Image as Image_PIL\n",
        "\n",
        "# Create the GIF\n",
        "gif_filename = 'epoch_animation.gif'\n",
        "images = [Image_PIL.open(epoch_image) for epoch_image in epoch_images]\n",
        "\n",
        "duration = 0.15\n",
        "images[0].save(gif_filename,\n",
        "            format='GIF',\n",
        "            append_images=images[1:],\n",
        "            save_all=True,\n",
        "            duration=duration*1000,\n",
        "            loop=0)\n",
        "\n",
        "# Delete the individual epoch images\n",
        "for epoch_image in epoch_images:\n",
        "    os.remove(epoch_image)"
      ]
    },
    {
      "cell_type": "code",
      "execution_count": null,
      "metadata": {
        "id": "FeXmalSUR9mv"
      },
      "outputs": [],
      "source": [
        "# Display the GIF\n",
        "Image(filename=gif_filename)"
      ]
    }
  ],
  "metadata": {
    "coursera": {
      "course_slug": "neural-networks-deep-learning",
      "graded_item_id": "wRuwL",
      "launcher_item_id": "NI888"
    },
    "kernelspec": {
      "display_name": "Python 3 (ipykernel)",
      "language": "python",
      "name": "python3"
    },
    "language_info": {
      "codemirror_mode": {
        "name": "ipython",
        "version": 3
      },
      "file_extension": ".py",
      "mimetype": "text/x-python",
      "name": "python",
      "nbconvert_exporter": "python",
      "pygments_lexer": "ipython3",
      "version": "3.11.10"
    },
    "latex_envs": {
      "LaTeX_envs_menu_present": true,
      "autoclose": false,
      "autocomplete": true,
      "bibliofile": "biblio.bib",
      "cite_by": "apalike",
      "current_citInitial": 1,
      "eqLabelWithNumbers": true,
      "eqNumInitial": 1,
      "hotkeys": {
        "equation": "Ctrl-E",
        "itemize": "Ctrl-I"
      },
      "labels_anchors": false,
      "latex_user_defs": false,
      "report_style_numbering": false,
      "user_envs_cfg": false
    },
    "toc": {
      "base_numbering": 1,
      "nav_menu": {},
      "number_sections": true,
      "sideBar": true,
      "skip_h1_title": false,
      "title_cell": "Table of Contents",
      "title_sidebar": "Contents",
      "toc_cell": false,
      "toc_position": {},
      "toc_section_display": true,
      "toc_window_display": false
    },
    "colab": {
      "provenance": []
    }
  },
  "nbformat": 4,
  "nbformat_minor": 0
}